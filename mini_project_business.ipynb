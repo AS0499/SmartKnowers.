{
  "nbformat": 4,
  "nbformat_minor": 0,
  "metadata": {
    "colab": {
      "name": "mini project-business.ipynb",
      "provenance": [],
      "collapsed_sections": [],
      "mount_file_id": "1iEF9yK-v0KSLqe7TmLy38qB4cg4RkHGP",
      "authorship_tag": "ABX9TyPVofDN/7fy+J1y4klomrxe",
      "include_colab_link": true
    },
    "kernelspec": {
      "name": "python3",
      "display_name": "Python 3"
    }
  },
  "cells": [
    {
      "cell_type": "markdown",
      "metadata": {
        "id": "view-in-github",
        "colab_type": "text"
      },
      "source": [
        "<a href=\"https://colab.research.google.com/github/AS0499/SmartKnowers./blob/master/mini_project_business.ipynb\" target=\"_parent\"><img src=\"https://colab.research.google.com/assets/colab-badge.svg\" alt=\"Open In Colab\"/></a>"
      ]
    },
    {
      "cell_type": "code",
      "metadata": {
        "id": "r7kuMROBHAo8",
        "colab_type": "code",
        "colab": {
          "base_uri": "https://localhost:8080/",
          "height": 74
        },
        "outputId": "e43ebe3e-d11f-4387-a11f-daae635f1aba"
      },
      "source": [
        "import pandas as pd\n",
        "import numpy as np\n",
        "import matplotlib.pyplot as plt\n",
        "import seaborn as sns"
      ],
      "execution_count": null,
      "outputs": [
        {
          "output_type": "stream",
          "text": [
            "/usr/local/lib/python3.6/dist-packages/statsmodels/tools/_testing.py:19: FutureWarning: pandas.util.testing is deprecated. Use the functions in the public API at pandas.testing instead.\n",
            "  import pandas.util.testing as tm\n"
          ],
          "name": "stderr"
        }
      ]
    },
    {
      "cell_type": "code",
      "metadata": {
        "id": "fheNljChH3mY",
        "colab_type": "code",
        "colab": {
          "base_uri": "https://localhost:8080/",
          "height": 424
        },
        "outputId": "2d8a046a-7edb-4a24-edfc-817b9cfd55f9"
      },
      "source": [
        "df = pd.read_csv('/content/drive/My Drive/Colab Notebooks/business.csv')\n",
        "df"
      ],
      "execution_count": null,
      "outputs": [
        {
          "output_type": "execute_result",
          "data": {
            "text/html": [
              "<div>\n",
              "<style scoped>\n",
              "    .dataframe tbody tr th:only-of-type {\n",
              "        vertical-align: middle;\n",
              "    }\n",
              "\n",
              "    .dataframe tbody tr th {\n",
              "        vertical-align: top;\n",
              "    }\n",
              "\n",
              "    .dataframe thead th {\n",
              "        text-align: right;\n",
              "    }\n",
              "</style>\n",
              "<table border=\"1\" class=\"dataframe\">\n",
              "  <thead>\n",
              "    <tr style=\"text-align: right;\">\n",
              "      <th></th>\n",
              "      <th>Product Type</th>\n",
              "      <th>Net Quantity</th>\n",
              "      <th>Gross Sales</th>\n",
              "      <th>Discounts</th>\n",
              "      <th>Returns</th>\n",
              "      <th>Total Net Sales</th>\n",
              "    </tr>\n",
              "  </thead>\n",
              "  <tbody>\n",
              "    <tr>\n",
              "      <th>0</th>\n",
              "      <td>Art &amp; Sculpture</td>\n",
              "      <td>34</td>\n",
              "      <td>14935.0</td>\n",
              "      <td>-594.00</td>\n",
              "      <td>-1609.00</td>\n",
              "      <td>12732.00</td>\n",
              "    </tr>\n",
              "    <tr>\n",
              "      <th>1</th>\n",
              "      <td>Basket</td>\n",
              "      <td>13</td>\n",
              "      <td>3744.0</td>\n",
              "      <td>-316.80</td>\n",
              "      <td>0.00</td>\n",
              "      <td>3427.20</td>\n",
              "    </tr>\n",
              "    <tr>\n",
              "      <th>2</th>\n",
              "      <td>Basket</td>\n",
              "      <td>12</td>\n",
              "      <td>3825.0</td>\n",
              "      <td>-201.60</td>\n",
              "      <td>-288.00</td>\n",
              "      <td>3335.40</td>\n",
              "    </tr>\n",
              "    <tr>\n",
              "      <th>3</th>\n",
              "      <td>Basket</td>\n",
              "      <td>17</td>\n",
              "      <td>3035.0</td>\n",
              "      <td>-63.25</td>\n",
              "      <td>0.00</td>\n",
              "      <td>2971.75</td>\n",
              "    </tr>\n",
              "    <tr>\n",
              "      <th>4</th>\n",
              "      <td>Art &amp; Sculpture</td>\n",
              "      <td>47</td>\n",
              "      <td>2696.8</td>\n",
              "      <td>-44.16</td>\n",
              "      <td>0.00</td>\n",
              "      <td>2652.64</td>\n",
              "    </tr>\n",
              "    <tr>\n",
              "      <th>...</th>\n",
              "      <td>...</td>\n",
              "      <td>...</td>\n",
              "      <td>...</td>\n",
              "      <td>...</td>\n",
              "      <td>...</td>\n",
              "      <td>...</td>\n",
              "    </tr>\n",
              "    <tr>\n",
              "      <th>1770</th>\n",
              "      <td>Kitchen</td>\n",
              "      <td>0</td>\n",
              "      <td>28.0</td>\n",
              "      <td>-2.81</td>\n",
              "      <td>-25.19</td>\n",
              "      <td>0.00</td>\n",
              "    </tr>\n",
              "    <tr>\n",
              "      <th>1771</th>\n",
              "      <td>Jewelry</td>\n",
              "      <td>0</td>\n",
              "      <td>28.0</td>\n",
              "      <td>0.00</td>\n",
              "      <td>-28.00</td>\n",
              "      <td>0.00</td>\n",
              "    </tr>\n",
              "    <tr>\n",
              "      <th>1772</th>\n",
              "      <td>Basket</td>\n",
              "      <td>0</td>\n",
              "      <td>116.0</td>\n",
              "      <td>-23.20</td>\n",
              "      <td>-92.80</td>\n",
              "      <td>0.00</td>\n",
              "    </tr>\n",
              "    <tr>\n",
              "      <th>1773</th>\n",
              "      <td>Kitchen</td>\n",
              "      <td>0</td>\n",
              "      <td>16.5</td>\n",
              "      <td>0.00</td>\n",
              "      <td>-16.50</td>\n",
              "      <td>0.00</td>\n",
              "    </tr>\n",
              "    <tr>\n",
              "      <th>1774</th>\n",
              "      <td>Kitchen</td>\n",
              "      <td>-1</td>\n",
              "      <td>0.0</td>\n",
              "      <td>0.00</td>\n",
              "      <td>-106.25</td>\n",
              "      <td>-106.25</td>\n",
              "    </tr>\n",
              "  </tbody>\n",
              "</table>\n",
              "<p>1775 rows × 6 columns</p>\n",
              "</div>"
            ],
            "text/plain": [
              "         Product Type  Net Quantity  ...  Returns  Total Net Sales\n",
              "0     Art & Sculpture            34  ... -1609.00         12732.00\n",
              "1              Basket            13  ...     0.00          3427.20\n",
              "2              Basket            12  ...  -288.00          3335.40\n",
              "3              Basket            17  ...     0.00          2971.75\n",
              "4     Art & Sculpture            47  ...     0.00          2652.64\n",
              "...               ...           ...  ...      ...              ...\n",
              "1770          Kitchen             0  ...   -25.19             0.00\n",
              "1771          Jewelry             0  ...   -28.00             0.00\n",
              "1772           Basket             0  ...   -92.80             0.00\n",
              "1773          Kitchen             0  ...   -16.50             0.00\n",
              "1774          Kitchen            -1  ...  -106.25          -106.25\n",
              "\n",
              "[1775 rows x 6 columns]"
            ]
          },
          "metadata": {
            "tags": []
          },
          "execution_count": 4
        }
      ]
    },
    {
      "cell_type": "code",
      "metadata": {
        "id": "g7JIgY7uH6G4",
        "colab_type": "code",
        "colab": {
          "base_uri": "https://localhost:8080/",
          "height": 206
        },
        "outputId": "5d421f99-53e6-4e64-812c-118c5b6685ae"
      },
      "source": [
        "df.head()"
      ],
      "execution_count": null,
      "outputs": [
        {
          "output_type": "execute_result",
          "data": {
            "text/html": [
              "<div>\n",
              "<style scoped>\n",
              "    .dataframe tbody tr th:only-of-type {\n",
              "        vertical-align: middle;\n",
              "    }\n",
              "\n",
              "    .dataframe tbody tr th {\n",
              "        vertical-align: top;\n",
              "    }\n",
              "\n",
              "    .dataframe thead th {\n",
              "        text-align: right;\n",
              "    }\n",
              "</style>\n",
              "<table border=\"1\" class=\"dataframe\">\n",
              "  <thead>\n",
              "    <tr style=\"text-align: right;\">\n",
              "      <th></th>\n",
              "      <th>Product Type</th>\n",
              "      <th>Net Quantity</th>\n",
              "      <th>Gross Sales</th>\n",
              "      <th>Discounts</th>\n",
              "      <th>Returns</th>\n",
              "      <th>Total Net Sales</th>\n",
              "    </tr>\n",
              "  </thead>\n",
              "  <tbody>\n",
              "    <tr>\n",
              "      <th>0</th>\n",
              "      <td>Art &amp; Sculpture</td>\n",
              "      <td>34</td>\n",
              "      <td>14935.0</td>\n",
              "      <td>-594.00</td>\n",
              "      <td>-1609.0</td>\n",
              "      <td>12732.00</td>\n",
              "    </tr>\n",
              "    <tr>\n",
              "      <th>1</th>\n",
              "      <td>Basket</td>\n",
              "      <td>13</td>\n",
              "      <td>3744.0</td>\n",
              "      <td>-316.80</td>\n",
              "      <td>0.0</td>\n",
              "      <td>3427.20</td>\n",
              "    </tr>\n",
              "    <tr>\n",
              "      <th>2</th>\n",
              "      <td>Basket</td>\n",
              "      <td>12</td>\n",
              "      <td>3825.0</td>\n",
              "      <td>-201.60</td>\n",
              "      <td>-288.0</td>\n",
              "      <td>3335.40</td>\n",
              "    </tr>\n",
              "    <tr>\n",
              "      <th>3</th>\n",
              "      <td>Basket</td>\n",
              "      <td>17</td>\n",
              "      <td>3035.0</td>\n",
              "      <td>-63.25</td>\n",
              "      <td>0.0</td>\n",
              "      <td>2971.75</td>\n",
              "    </tr>\n",
              "    <tr>\n",
              "      <th>4</th>\n",
              "      <td>Art &amp; Sculpture</td>\n",
              "      <td>47</td>\n",
              "      <td>2696.8</td>\n",
              "      <td>-44.16</td>\n",
              "      <td>0.0</td>\n",
              "      <td>2652.64</td>\n",
              "    </tr>\n",
              "  </tbody>\n",
              "</table>\n",
              "</div>"
            ],
            "text/plain": [
              "      Product Type  Net Quantity  ...  Returns  Total Net Sales\n",
              "0  Art & Sculpture            34  ...  -1609.0         12732.00\n",
              "1           Basket            13  ...      0.0          3427.20\n",
              "2           Basket            12  ...   -288.0          3335.40\n",
              "3           Basket            17  ...      0.0          2971.75\n",
              "4  Art & Sculpture            47  ...      0.0          2652.64\n",
              "\n",
              "[5 rows x 6 columns]"
            ]
          },
          "metadata": {
            "tags": []
          },
          "execution_count": 5
        }
      ]
    },
    {
      "cell_type": "code",
      "metadata": {
        "id": "tR_Eo2XuILag",
        "colab_type": "code",
        "colab": {
          "base_uri": "https://localhost:8080/",
          "height": 35
        },
        "outputId": "d5cbed99-7240-4b2c-cec6-08d7b845be16"
      },
      "source": [
        "df.shape\n"
      ],
      "execution_count": null,
      "outputs": [
        {
          "output_type": "execute_result",
          "data": {
            "text/plain": [
              "(1775, 6)"
            ]
          },
          "metadata": {
            "tags": []
          },
          "execution_count": 6
        }
      ]
    },
    {
      "cell_type": "code",
      "metadata": {
        "id": "snapxxNkIMdE",
        "colab_type": "code",
        "colab": {
          "base_uri": "https://localhost:8080/",
          "height": 265
        },
        "outputId": "6e61b283-53ca-4761-bec0-8cee845fefa8"
      },
      "source": [
        "plt.scatter(df['Net Quantity'],df['Total Net Sales'])\n",
        "plt.show()"
      ],
      "execution_count": null,
      "outputs": [
        {
          "output_type": "display_data",
          "data": {
            "image/png": "[encoded data removed]",
            "text/plain": [
              "<Figure size 432x288 with 1 Axes>"
            ]
          },
          "metadata": {
            "tags": [],
            "needs_background": "light"
          }
        }
      ]
    },
    {
      "cell_type": "code",
      "metadata": {
        "id": "rI6OMRjNIPnh",
        "colab_type": "code",
        "colab": {
          "base_uri": "https://localhost:8080/",
          "height": 387
        },
        "outputId": "116eaf35-5a23-473d-90f4-8a349fd376b2"
      },
      "source": [
        "sns.relplot(x='Net Quantity',y='Total Net Sales',hue='Discounts',data=df)"
      ],
      "execution_count": null,
      "outputs": [
        {
          "output_type": "execute_result",
          "data": {
            "text/plain": [
              "<seaborn.axisgrid.FacetGrid at 0x7f6264d1dc18>"
            ]
          },
          "metadata": {
            "tags": []
          },
          "execution_count": 8
        },
        {
          "output_type": "display_data",
          "data": {
            "image/png": "[encoded data removed]",
            "text/plain": [
              "<Figure size 445.25x360 with 1 Axes>"
            ]
          },
          "metadata": {
            "tags": [],
            "needs_background": "light"
          }
        }
      ]
    },
    {
      "cell_type": "code",
      "metadata": {
        "id": "AETPCO7HIVsI",
        "colab_type": "code",
        "colab": {
          "base_uri": "https://localhost:8080/",
          "height": 387
        },
        "outputId": "88d8de59-a2a2-40ad-b1c9-427c3a19bd56"
      },
      "source": [
        "#line plot\n",
        "sns.relplot(x='Net Quantity',y='Total Net Sales',data=df,kind='line')"
      ],
      "execution_count": null,
      "outputs": [
        {
          "output_type": "execute_result",
          "data": {
            "text/plain": [
              "<seaborn.axisgrid.FacetGrid at 0x7f6264dd7860>"
            ]
          },
          "metadata": {
            "tags": []
          },
          "execution_count": 9
        },
        {
          "output_type": "display_data",
          "data": {
            "image/png": "[encoded data removed]",
            "text/plain": [
              "<Figure size 360x360 with 1 Axes>"
            ]
          },
          "metadata": {
            "tags": [],
            "needs_background": "light"
          }
        }
      ]
    },
    {
      "cell_type": "code",
      "metadata": {
        "id": "dO-uBWJYIZvz",
        "colab_type": "code",
        "colab": {
          "base_uri": "https://localhost:8080/",
          "height": 948
        },
        "outputId": "69fcd5ed-7d05-4232-e18a-53127d400d01"
      },
      "source": [
        "from scipy import stats\n",
        "sns.pairplot(df)"
      ],
      "execution_count": null,
      "outputs": [
        {
          "output_type": "execute_result",
          "data": {
            "text/plain": [
              "<seaborn.axisgrid.PairGrid at 0x7f6261fbf908>"
            ]
          },
          "metadata": {
            "tags": []
          },
          "execution_count": 10
        },
        {
          "output_type": "display_data",
          "data": {
            "image/png": "[encoded data removed]",
            "text/plain": [
              "<Figure size 900x900 with 30 Axes>"
            ]
          },
          "metadata": {
            "tags": [],
            "needs_background": "light"
          }
        }
      ]
    },
    {
      "cell_type": "code",
      "metadata": {
        "id": "iOMN4q6oIfqH",
        "colab_type": "code",
        "colab": {
          "base_uri": "https://localhost:8080/",
          "height": 424
        },
        "outputId": "41efc342-828a-40da-9f1f-bb4ded128985"
      },
      "source": [
        "x=df.iloc[:,1:5].values\n",
        "y=df.iloc[:,5].values\n",
        "df"
      ],
      "execution_count": null,
      "outputs": [
        {
          "output_type": "execute_result",
          "data": {
            "text/html": [
              "<div>\n",
              "<style scoped>\n",
              "    .dataframe tbody tr th:only-of-type {\n",
              "        vertical-align: middle;\n",
              "    }\n",
              "\n",
              "    .dataframe tbody tr th {\n",
              "        vertical-align: top;\n",
              "    }\n",
              "\n",
              "    .dataframe thead th {\n",
              "        text-align: right;\n",
              "    }\n",
              "</style>\n",
              "<table border=\"1\" class=\"dataframe\">\n",
              "  <thead>\n",
              "    <tr style=\"text-align: right;\">\n",
              "      <th></th>\n",
              "      <th>Product Type</th>\n",
              "      <th>Net Quantity</th>\n",
              "      <th>Gross Sales</th>\n",
              "      <th>Discounts</th>\n",
              "      <th>Returns</th>\n",
              "      <th>Total Net Sales</th>\n",
              "    </tr>\n",
              "  </thead>\n",
              "  <tbody>\n",
              "    <tr>\n",
              "      <th>0</th>\n",
              "      <td>Art &amp; Sculpture</td>\n",
              "      <td>34</td>\n",
              "      <td>14935.0</td>\n",
              "      <td>-594.00</td>\n",
              "      <td>-1609.00</td>\n",
              "      <td>12732.00</td>\n",
              "    </tr>\n",
              "    <tr>\n",
              "      <th>1</th>\n",
              "      <td>Basket</td>\n",
              "      <td>13</td>\n",
              "      <td>3744.0</td>\n",
              "      <td>-316.80</td>\n",
              "      <td>0.00</td>\n",
              "      <td>3427.20</td>\n",
              "    </tr>\n",
              "    <tr>\n",
              "      <th>2</th>\n",
              "      <td>Basket</td>\n",
              "      <td>12</td>\n",
              "      <td>3825.0</td>\n",
              "      <td>-201.60</td>\n",
              "      <td>-288.00</td>\n",
              "      <td>3335.40</td>\n",
              "    </tr>\n",
              "    <tr>\n",
              "      <th>3</th>\n",
              "      <td>Basket</td>\n",
              "      <td>17</td>\n",
              "      <td>3035.0</td>\n",
              "      <td>-63.25</td>\n",
              "      <td>0.00</td>\n",
              "      <td>2971.75</td>\n",
              "    </tr>\n",
              "    <tr>\n",
              "      <th>4</th>\n",
              "      <td>Art &amp; Sculpture</td>\n",
              "      <td>47</td>\n",
              "      <td>2696.8</td>\n",
              "      <td>-44.16</td>\n",
              "      <td>0.00</td>\n",
              "      <td>2652.64</td>\n",
              "    </tr>\n",
              "    <tr>\n",
              "      <th>...</th>\n",
              "      <td>...</td>\n",
              "      <td>...</td>\n",
              "      <td>...</td>\n",
              "      <td>...</td>\n",
              "      <td>...</td>\n",
              "      <td>...</td>\n",
              "    </tr>\n",
              "    <tr>\n",
              "      <th>1770</th>\n",
              "      <td>Kitchen</td>\n",
              "      <td>0</td>\n",
              "      <td>28.0</td>\n",
              "      <td>-2.81</td>\n",
              "      <td>-25.19</td>\n",
              "      <td>0.00</td>\n",
              "    </tr>\n",
              "    <tr>\n",
              "      <th>1771</th>\n",
              "      <td>Jewelry</td>\n",
              "      <td>0</td>\n",
              "      <td>28.0</td>\n",
              "      <td>0.00</td>\n",
              "      <td>-28.00</td>\n",
              "      <td>0.00</td>\n",
              "    </tr>\n",
              "    <tr>\n",
              "      <th>1772</th>\n",
              "      <td>Basket</td>\n",
              "      <td>0</td>\n",
              "      <td>116.0</td>\n",
              "      <td>-23.20</td>\n",
              "      <td>-92.80</td>\n",
              "      <td>0.00</td>\n",
              "    </tr>\n",
              "    <tr>\n",
              "      <th>1773</th>\n",
              "      <td>Kitchen</td>\n",
              "      <td>0</td>\n",
              "      <td>16.5</td>\n",
              "      <td>0.00</td>\n",
              "      <td>-16.50</td>\n",
              "      <td>0.00</td>\n",
              "    </tr>\n",
              "    <tr>\n",
              "      <th>1774</th>\n",
              "      <td>Kitchen</td>\n",
              "      <td>-1</td>\n",
              "      <td>0.0</td>\n",
              "      <td>0.00</td>\n",
              "      <td>-106.25</td>\n",
              "      <td>-106.25</td>\n",
              "    </tr>\n",
              "  </tbody>\n",
              "</table>\n",
              "<p>1775 rows × 6 columns</p>\n",
              "</div>"
            ],
            "text/plain": [
              "         Product Type  Net Quantity  ...  Returns  Total Net Sales\n",
              "0     Art & Sculpture            34  ... -1609.00         12732.00\n",
              "1              Basket            13  ...     0.00          3427.20\n",
              "2              Basket            12  ...  -288.00          3335.40\n",
              "3              Basket            17  ...     0.00          2971.75\n",
              "4     Art & Sculpture            47  ...     0.00          2652.64\n",
              "...               ...           ...  ...      ...              ...\n",
              "1770          Kitchen             0  ...   -25.19             0.00\n",
              "1771          Jewelry             0  ...   -28.00             0.00\n",
              "1772           Basket             0  ...   -92.80             0.00\n",
              "1773          Kitchen             0  ...   -16.50             0.00\n",
              "1774          Kitchen            -1  ...  -106.25          -106.25\n",
              "\n",
              "[1775 rows x 6 columns]"
            ]
          },
          "metadata": {
            "tags": []
          },
          "execution_count": 11
        }
      ]
    },
    {
      "cell_type": "code",
      "metadata": {
        "id": "RKi9zfx6Igh7",
        "colab_type": "code",
        "colab": {
          "base_uri": "https://localhost:8080/",
          "height": 35
        },
        "outputId": "62d97ff0-cc54-44d1-9f54-91974d81310b"
      },
      "source": [
        "#splitting of data- training + testing\n",
        "\n",
        "from sklearn.model_selection import train_test_split\n",
        "x_train,x_test,y_train,y_test=train_test_split(x,y,test_size=0.3,random_state=0)\n",
        "x_train.shape\n"
      ],
      "execution_count": null,
      "outputs": [
        {
          "output_type": "execute_result",
          "data": {
            "text/plain": [
              "(1242, 4)"
            ]
          },
          "metadata": {
            "tags": []
          },
          "execution_count": 12
        }
      ]
    },
    {
      "cell_type": "code",
      "metadata": {
        "id": "I7h2wq-5IkYz",
        "colab_type": "code",
        "colab": {
          "base_uri": "https://localhost:8080/",
          "height": 35
        },
        "outputId": "48943b40-67bc-4ba9-e36e-141f3378e4bc"
      },
      "source": [
        "x_test.shape"
      ],
      "execution_count": null,
      "outputs": [
        {
          "output_type": "execute_result",
          "data": {
            "text/plain": [
              "(533, 4)"
            ]
          },
          "metadata": {
            "tags": []
          },
          "execution_count": 13
        }
      ]
    },
    {
      "cell_type": "code",
      "metadata": {
        "id": "oXgluSkAIpij",
        "colab_type": "code",
        "colab": {
          "base_uri": "https://localhost:8080/",
          "height": 1000
        },
        "outputId": "8a834c3f-935a-4caf-f6d4-0b7fb6af84cc"
      },
      "source": [
        "from sklearn.linear_model import LinearRegression\n",
        "model=LinearRegression()\n",
        "model.fit(x_train,y_train) #only training datas\n",
        "y_pred=model.predict(x_test)\n",
        "y_pred  #predicted o/p"
      ],
      "execution_count": null,
      "outputs": [
        {
          "output_type": "execute_result",
          "data": {
            "text/plain": [
              "array([ 4.29200000e+01,  1.55000000e+02,  2.00000000e+01,  4.80000000e+01,\n",
              "        4.32000000e+01,  4.80000000e+01,  6.12000000e+01,  1.52000000e+02,\n",
              "        1.14000000e+02,  3.60000000e+01,  1.25000000e+02,  4.00000000e+01,\n",
              "        1.27600000e+02, -2.02504680e-13,  4.35610000e+02,  7.36000000e+02,\n",
              "        3.46000000e+01,  1.75000000e+02,  8.80000000e+01,  3.60000000e+01,\n",
              "        2.81600000e+02,  9.18000000e+01,  4.80000000e+01,  2.13400000e+03,\n",
              "        7.22000000e+01,  8.40000000e+01,  3.00000000e+01,  1.76400000e+02,\n",
              "        1.85000000e+02,  3.74000000e+02,  4.91400000e+02,  2.34800000e+01,\n",
              "        5.60000000e+01,  5.60000000e+01,  1.62000000e+01,  3.07800000e+02,\n",
              "        5.80000000e+01,  1.39200000e+02,  1.98000000e+01,  3.60000000e+01,\n",
              "        1.45000000e+02,  1.12500000e+02,  2.52000000e+01,  1.88000000e+02,\n",
              "        2.52000000e+01,  7.40000000e+01,  7.60000000e+01,  8.16000000e+01,\n",
              "        2.30000000e+02,  4.57800000e+02,  1.66600000e+02,  3.80000000e+01,\n",
              "        8.12000000e+01,  1.21600000e+02,  1.32000000e+02,  1.80000000e+01,\n",
              "        6.40000000e+01,  1.75000000e+02,  9.52000000e+01,  3.19600000e+02,\n",
              "        1.80510000e+02,  1.10000000e+02,  8.80000000e+01,  5.65000000e+02,\n",
              "        4.40000000e+01,  1.06400000e+02,  1.09440000e+03,  9.40000000e+01,\n",
              "        1.51400000e+02,  5.28000000e+02, -2.02504680e-13,  2.70000000e+02,\n",
              "        6.80000000e+01,  5.32000000e+01,  1.02840000e+03,  2.91200000e+02,\n",
              "        7.20000000e+01,  3.32500000e+02,  9.46010000e+02,  2.52000000e+01,\n",
              "        3.90000000e+01,  1.66000000e+02,  1.75500000e+02,  8.12000000e+01,\n",
              "        1.85000000e+02,  3.15000000e+02,  1.20000000e+01,  3.20000000e+01,\n",
              "        8.12000000e+01,  6.00000000e+01,  2.16000000e+02,  6.80000000e+01,\n",
              "        4.80000000e+01,  1.07680000e+02,  7.66520000e+02,  1.80000000e+01,\n",
              "        3.59000000e+02,  1.80000000e+01,  3.32850000e+02,  3.30000000e+02,\n",
              "        1.52460000e+03,  1.03500000e+02,  2.80000000e+01,  3.61000000e+01,\n",
              "        4.40000000e+01,  2.07600000e+02,  5.80000000e+01,  1.66500000e+02,\n",
              "        5.20000000e+02,  4.80000000e+01,  2.88000000e+01,  2.96790000e+02,\n",
              "        4.68100000e+01,  1.45200000e+03,  1.10000000e+02,  1.24000000e+02,\n",
              "        1.87200000e+02,  1.65000000e+02,  1.10200000e+02,  1.21590000e+02,\n",
              "        2.80000000e+01,  1.03500000e+02,  5.60000000e+01,  9.52000000e+01,\n",
              "        3.42000000e+01,  5.60000000e+01,  4.40000000e+01,  2.40000000e+01,\n",
              "        4.80000000e+01,  6.80000000e+01,  1.20600000e+02,  4.80000000e+01,\n",
              "        4.20000000e+01,  1.25000000e+02,  7.60000000e+01,  8.36000000e+01,\n",
              "        4.72710000e+02,  4.40000000e+01,  4.50000000e+02,  2.40000000e+01,\n",
              "        6.80000000e+01,  1.77790000e+02,  1.80000000e+01,  1.80000000e+01,\n",
              "        1.66600000e+02,  1.16000000e+02,  6.48000000e+01, -1.06250000e+02,\n",
              "        2.80000000e+01,  1.85000000e+02,  1.06321000e+03,  8.80000000e+01,\n",
              "        1.25000000e+02,  2.14500000e+01,  2.24200000e+02,  1.69400000e+02,\n",
              "        2.00000000e+02,  1.83600000e+02,  8.20000000e+01,  2.72000000e+02,\n",
              "        2.40000000e+02,  1.51800000e+02,  1.64000000e+02,  2.53250000e+03,\n",
              "        8.91000000e+02,  4.86000000e+01,  3.96000000e+02,  1.78000000e+02,\n",
              "        8.36000000e+01,  1.25000000e+02,  1.34110000e+02,  1.17000000e+02,\n",
              "        6.08000000e+01,  7.22000000e+01,  3.42000000e+01,  8.03900000e+01,\n",
              "        6.12000000e+01,  3.70500000e+02,  4.40000000e+01,  7.92000000e+01,\n",
              "        3.80000000e+01,  4.32000000e+01,  2.16000000e+01,  2.51600000e+02,\n",
              "        7.20000000e+01,  1.48500000e+02,  4.32000000e+01,  5.55000000e+01,\n",
              "        9.20000000e+01,  1.40940000e+03,  4.56000000e+01,  1.51200000e+02,\n",
              "        9.38400000e+02,  3.40000000e+01,  3.15000000e+01,  1.85000000e+02,\n",
              "        2.80000000e+01,  1.45000000e+02,  6.29000000e+01,  1.90750000e+03,\n",
              "        7.65000000e+01,  2.52000000e+01,  1.53600000e+02,  5.48800000e+02,\n",
              "        1.34000000e+02,  9.88000000e+01,  3.06000000e+01,  7.21500000e+02,\n",
              "        1.45000000e+02,  6.46000000e+01,  4.25000000e+01,  8.40000000e+01,\n",
              "        8.60000000e+01,  1.06400000e+02,  9.85900000e+01,  8.63850000e+02,\n",
              "        6.84400000e+02,  1.90000000e+02,  6.40850000e+02,  3.80000000e+01,\n",
              "        2.50800000e+01,  5.25000000e+02,  1.95000000e+02,  3.60000000e+01,\n",
              "        3.40000000e+01,  7.20000000e+01,  7.20000000e+01,  9.11900000e+01,\n",
              "        2.88000000e+02,  1.45920000e+03,  1.39200000e+02,  6.80000000e+01,\n",
              "        5.32000000e+01,  9.50400000e+02,  1.29200000e+02,  1.12000000e+02,\n",
              "        1.66500000e+02,  2.50800000e+02,  1.62000000e+02,  1.56000000e+02,\n",
              "        2.26200000e+02,  9.00000000e+01,  4.42400000e+02,  2.10000000e+02,\n",
              "        4.40000000e+02,  9.50500000e+01,  1.07840000e+03,  1.25000000e+02,\n",
              "        3.20000000e+01,  1.68000000e+02,  1.16000000e+02,  2.95600000e+02,\n",
              "        6.16000000e+01,  7.98000000e+01,  4.18000000e+01,  4.80000000e+01,\n",
              "       -1.52766688e-13,  2.08800000e+02,  3.06000000e+01,  4.20000000e+01,\n",
              "        3.40000000e+01,  2.16000000e+01,  3.06000000e+01,  5.80000000e+01,\n",
              "        2.93000000e+02,  5.60000000e+01,  2.52000000e+01,  1.80000000e+01,\n",
              "        1.58200000e+02,  4.05000000e+01,  7.98000000e+01,  1.98000000e+02,\n",
              "        4.32000000e+01,  2.73680000e+02,  8.82000000e+01,  3.15000000e+01,\n",
              "        1.68000000e+02,  6.60000000e+01,  5.60000000e+01,  2.65264000e+03,\n",
              "        3.48000000e+02,  8.28100000e+01,  3.32500000e+02,  1.57500000e+02,\n",
              "        6.60000000e+01,  6.96000000e+01,  1.57500000e+02,  5.40000000e+01,\n",
              "        1.45000000e+02,  2.44000000e+02,  2.78390000e+02,  9.00000000e+01,\n",
              "        1.15500000e+03,  7.60000000e+01,  4.14000000e+01,  1.64000000e+02,\n",
              "        1.35210000e+02,  4.80000000e+01,  1.10000000e+02,  2.88000000e+01,\n",
              "        6.40000000e+01,  1.10000000e+02,  7.98000000e+01,  1.86210000e+02,\n",
              "        4.14000000e+01,  8.96000000e+01,  1.26500000e+02,  6.64200000e+02,\n",
              "        8.91000000e+01,  7.72000000e+01,  4.80000000e+01,  3.52000000e+01,\n",
              "        3.88800000e+02,  1.12500000e+02,  3.80000000e+01,  1.75500000e+02,\n",
              "       -5.68434189e-14,  5.80000000e+01,  2.80000000e+01,  2.52000000e+01,\n",
              "        2.80000000e+01,  1.43260000e+02,  1.30500000e+02,  1.35000000e+02,\n",
              "        8.55000000e+01,  1.85000000e+02,  1.50000000e+02,  1.66500000e+02,\n",
              "        6.80000000e+01,  4.05000000e+02,  2.20000000e+02,  8.12100000e+01,\n",
              "        2.76000000e+02,  3.23400000e+02,  1.20000000e+01,  3.78000000e+01,\n",
              "        1.56000000e+02,  3.24000000e+01,  4.80000000e+01,  1.75000000e+02,\n",
              "        1.59700000e+02,  6.80000000e+01,  1.45000000e+02,  1.98200000e+02,\n",
              "        2.20000000e+01,  2.80000000e+01,  3.56400000e+02,  2.86200000e+02,\n",
              "        8.40000000e+01,  6.80000000e+01,  9.20000000e+01,  1.80000000e+01,\n",
              "        2.40000000e+02,  1.74000000e+02,  4.80000000e+01,  1.56000000e+02,\n",
              "        7.20000000e+01,  2.10000000e+01,  1.98000000e+02,  8.75000000e+01,\n",
              "        6.20000000e+01,  4.80000000e+01,  1.40000000e+01,  1.36320000e+02,\n",
              "        3.80000000e+01,  4.98000000e+02,  3.48810000e+02,  6.60000000e+01,\n",
              "        3.50000000e+02,  9.17900000e+01,  1.66500000e+02,  5.80000000e+01,\n",
              "        2.34000000e+02,  9.60000000e+01,  4.62500000e+02,  5.20000000e+01,\n",
              "        1.37200000e+02,  1.04400000e+02,  1.15000000e+02,  2.36500000e+02,\n",
              "        1.62000000e+01,  4.06800000e+02,  1.95000000e+02,  7.20000000e+01,\n",
              "        5.60000000e+01,  4.48000000e+01,  4.80000000e+01,  5.30000000e+01,\n",
              "        1.35600000e+03,  4.32000000e+01,  1.02920000e+03,  5.60000000e+01,\n",
              "        8.09900000e+01,  8.87010000e+02,  2.40000000e+01,  3.20000000e+01,\n",
              "        5.80000000e+01,  2.32000000e+02,  3.72800000e+02,  1.85000000e+02,\n",
              "        6.12000000e+01,  1.75000000e+02,  1.21500000e+02,  6.07900000e+01,\n",
              "        1.91900000e+02,  1.66500000e+02,  3.20000000e+01,  3.40000000e+01,\n",
              "        1.25750000e+03,  2.40000000e+01,  1.23200000e+02,  2.64000000e+02,\n",
              "        2.40000000e+01,  2.20000000e+01,  1.45000000e+02,  1.25000000e+02,\n",
              "        1.85000000e+01,  3.42000000e+02,  1.65000000e+02,  3.78000000e+01,\n",
              "        3.20000000e+01,  1.10000000e+02,  1.75000000e+02,  5.85000000e+01,\n",
              "        1.36000000e+02,  1.12000000e+02,  3.33540000e+03,  4.40000000e+01,\n",
              "        3.40000000e+01,  9.00000000e+01,  3.80000000e+01,  1.57500000e+02,\n",
              "        5.25000000e+01,  1.68000000e+02,  1.24200000e+02,  1.10000000e+02,\n",
              "        3.40600000e+02,  1.45000000e+02,  1.85000000e+02,  9.90000000e+01,\n",
              "        2.80000000e+01,  4.64000000e+01,  2.80000000e+01,  1.40000000e+01,\n",
              "        1.75000000e+02,  1.74600000e+02,  1.66500000e+02,  3.96000000e+01,\n",
              "        6.25000000e+02,  1.75000000e+02,  3.85000000e+02,  5.64000000e+02,\n",
              "        1.22400000e+02,  4.40000000e+01,  4.40000000e+01,  1.65000000e+02,\n",
              "        1.25000000e+02,  3.42720000e+03,  2.12500000e+01,  6.12000000e+01,\n",
              "        2.80000000e+01,  3.60000000e+01,  1.50420000e+02,  1.01500000e+03,\n",
              "        7.00000000e+01,  8.04000000e+01,  4.40000000e+01,  1.12500000e+02,\n",
              "        1.78600000e+02,  4.80000000e+01,  8.40000000e+01,  1.30000000e+02,\n",
              "        1.37200000e+02,  4.40000000e+01,  2.20000000e+01,  3.34500000e+01,\n",
              "        3.19000000e+02,  2.72000000e+01,  7.50000000e+01,  4.80000000e+01,\n",
              "        4.80000000e+01,  1.85000000e+02,  7.52500000e+02,  1.71600000e+02,\n",
              "        3.36000000e+02,  1.36000000e+02,  1.75000000e+02,  1.09200000e+02,\n",
              "        8.40000000e+01,  2.10000000e+02,  9.32400000e+02,  4.40000000e+01,\n",
              "        4.20000000e+01,  4.50000000e+01,  5.50000000e+01,  2.70000000e+02,\n",
              "        4.93500000e+01,  2.80000000e+01,  3.30000000e+02,  2.45000000e+02,\n",
              "        7.33200000e+01,  2.80000000e+01,  3.32800000e+02,  1.85000000e+02,\n",
              "        1.10000000e+02,  7.22000000e+01,  5.80000000e+01,  2.85000000e+01,\n",
              "        5.80000000e+01,  6.80000000e+01,  5.44000000e+01,  2.02800000e+02,\n",
              "        2.54790000e+02,  2.04000000e+02,  1.62000000e+01,  5.04000000e+01,\n",
              "        1.52190000e+02,  1.36000000e+02,  1.57500000e+02,  7.40000000e+01,\n",
              "        9.60000000e+01,  1.25000000e+02,  1.55000000e+02,  2.04400000e+02,\n",
              "        1.04800000e+03,  8.12000000e+01,  2.52000000e+01,  1.20000000e+02,\n",
              "        4.80000000e+01,  2.72000000e+01,  1.52000000e+02,  1.30000000e+02,\n",
              "        1.48000000e+02])"
            ]
          },
          "metadata": {
            "tags": []
          },
          "execution_count": 14
        }
      ]
    },
    {
      "cell_type": "code",
      "metadata": {
        "id": "YzACZrPRIsrX",
        "colab_type": "code",
        "colab": {
          "base_uri": "https://localhost:8080/",
          "height": 1000
        },
        "outputId": "4260ae26-49be-4ecd-ac0b-2d8a52f9f9da"
      },
      "source": [
        "y_test #real o/p of testing values"
      ],
      "execution_count": null,
      "outputs": [
        {
          "output_type": "execute_result",
          "data": {
            "text/plain": [
              "array([  42.92,  155.  ,   20.  ,   48.  ,   43.2 ,   48.  ,   61.2 ,\n",
              "        152.  ,  114.  ,   36.  ,  125.  ,   40.  ,  127.6 ,    0.  ,\n",
              "        435.61,  736.  ,   34.6 ,  175.  ,   88.  ,   36.  ,  281.6 ,\n",
              "         91.8 ,   48.  , 2134.  ,   72.2 ,   84.  ,   30.  ,  176.4 ,\n",
              "        185.  ,  374.  ,  491.4 ,   23.48,   56.  ,   56.  ,   16.2 ,\n",
              "        307.8 ,   58.  ,  139.2 ,   19.8 ,   36.  ,  145.  ,  112.5 ,\n",
              "         25.2 ,  188.  ,   25.2 ,   74.  ,   76.  ,   81.6 ,  230.  ,\n",
              "        457.8 ,  166.6 ,   38.  ,   81.2 ,  121.6 ,  132.  ,   18.  ,\n",
              "         64.  ,  175.  ,   95.2 ,  319.6 ,  180.51,  110.  ,   88.  ,\n",
              "        565.  ,   44.  ,  106.4 , 1094.4 ,   94.  ,  151.4 ,  528.  ,\n",
              "          0.  ,  270.  ,   68.  ,   53.2 , 1028.4 ,  291.2 ,   72.  ,\n",
              "        332.5 ,  946.01,   25.2 ,   39.  ,  166.  ,  175.5 ,   81.2 ,\n",
              "        185.  ,  315.  ,   12.  ,   32.  ,   81.2 ,   60.  ,  216.  ,\n",
              "         68.  ,   48.  ,  107.68,  766.52,   18.  ,  359.  ,   18.  ,\n",
              "        332.85,  330.  , 1524.6 ,  103.5 ,   28.  ,   36.1 ,   44.  ,\n",
              "        207.6 ,   58.  ,  166.5 ,  520.  ,   48.  ,   28.8 ,  296.79,\n",
              "         46.81, 1452.  ,  110.  ,  124.  ,  187.2 ,  165.  ,  110.2 ,\n",
              "        121.59,   28.  ,  103.5 ,   56.  ,   95.2 ,   34.2 ,   56.  ,\n",
              "         44.  ,   24.  ,   48.  ,   68.  ,  120.6 ,   48.  ,   42.  ,\n",
              "        125.  ,   76.  ,   83.6 ,  472.71,   44.  ,  450.  ,   24.  ,\n",
              "         68.  ,  177.79,   18.  ,   18.  ,  166.6 ,  116.  ,   64.8 ,\n",
              "       -106.25,   28.  ,  185.  , 1063.21,   88.  ,  125.  ,   21.45,\n",
              "        224.2 ,  169.4 ,  200.  ,  183.6 ,   82.  ,  272.  ,  240.  ,\n",
              "        151.8 ,  164.  , 2532.5 ,  891.  ,   48.6 ,  396.  ,  178.  ,\n",
              "         83.6 ,  125.  ,  134.11,  117.  ,   60.8 ,   72.2 ,   34.2 ,\n",
              "         80.39,   61.2 ,  370.5 ,   44.  ,   79.2 ,   38.  ,   43.2 ,\n",
              "         21.6 ,  251.6 ,   72.  ,  148.5 ,   43.2 ,   55.5 ,   92.  ,\n",
              "       1409.4 ,   45.6 ,  151.2 ,  938.4 ,   34.  ,   31.5 ,  185.  ,\n",
              "         28.  ,  145.  ,   62.9 , 1907.5 ,   76.5 ,   25.2 ,  153.6 ,\n",
              "        548.8 ,  134.  ,   98.8 ,   30.6 ,  721.5 ,  145.  ,   64.6 ,\n",
              "         42.5 ,   84.  ,   86.  ,  106.4 ,   98.59,  863.85,  684.4 ,\n",
              "        190.  ,  640.85,   38.  ,   25.08,  525.  ,  195.  ,   36.  ,\n",
              "         34.  ,   72.  ,   72.  ,   91.19,  288.  , 1459.2 ,  139.2 ,\n",
              "         68.  ,   53.2 ,  950.4 ,  129.2 ,  112.  ,  166.5 ,  250.8 ,\n",
              "        162.  ,  156.  ,  226.2 ,   90.  ,  442.4 ,  210.  ,  440.  ,\n",
              "         95.05, 1078.4 ,  125.  ,   32.  ,  168.  ,  116.  ,  295.6 ,\n",
              "         61.6 ,   79.8 ,   41.8 ,   48.  ,    0.  ,  208.8 ,   30.6 ,\n",
              "         42.  ,   34.  ,   21.6 ,   30.6 ,   58.  ,  293.  ,   56.  ,\n",
              "         25.2 ,   18.  ,  158.2 ,   40.5 ,   79.8 ,  198.  ,   43.2 ,\n",
              "        273.68,   88.2 ,   31.5 ,  168.  ,   66.  ,   56.  , 2652.64,\n",
              "        348.  ,   82.81,  332.5 ,  157.5 ,   66.  ,   69.6 ,  157.5 ,\n",
              "         54.  ,  145.  ,  244.  ,  278.39,   90.  , 1155.  ,   76.  ,\n",
              "         41.4 ,  164.  ,  135.21,   48.  ,  110.  ,   28.8 ,   64.  ,\n",
              "        110.  ,   79.8 ,  186.21,   41.4 ,   89.6 ,  126.5 ,  664.2 ,\n",
              "         89.1 ,   77.2 ,   48.  ,   35.2 ,  388.8 ,  112.5 ,   38.  ,\n",
              "        175.5 ,    0.  ,   58.  ,   28.  ,   25.2 ,   28.  ,  143.26,\n",
              "        130.5 ,  135.  ,   85.5 ,  185.  ,  150.  ,  166.5 ,   68.  ,\n",
              "        405.  ,  220.  ,   81.21,  276.  ,  323.4 ,   12.  ,   37.8 ,\n",
              "        156.  ,   32.4 ,   48.  ,  175.  ,  159.7 ,   68.  ,  145.  ,\n",
              "        198.2 ,   22.  ,   28.  ,  356.4 ,  286.2 ,   84.  ,   68.  ,\n",
              "         92.  ,   18.  ,  240.  ,  174.  ,   48.  ,  156.  ,   72.  ,\n",
              "         21.  ,  198.  ,   87.5 ,   62.  ,   48.  ,   14.  ,  136.32,\n",
              "         38.  ,  498.  ,  348.81,   66.  ,  350.  ,   91.79,  166.5 ,\n",
              "         58.  ,  234.  ,   96.  ,  462.5 ,   52.  ,  137.2 ,  104.4 ,\n",
              "        115.  ,  236.5 ,   16.2 ,  406.8 ,  195.  ,   72.  ,   56.  ,\n",
              "         44.8 ,   48.  ,   53.  , 1356.  ,   43.2 , 1029.2 ,   56.  ,\n",
              "         80.99,  887.01,   24.  ,   32.  ,   58.  ,  232.  ,  372.8 ,\n",
              "        185.  ,   61.2 ,  175.  ,  121.5 ,   60.79,  191.9 ,  166.5 ,\n",
              "         32.  ,   34.  , 1257.5 ,   24.  ,  123.2 ,  264.  ,   24.  ,\n",
              "         22.  ,  145.  ,  125.  ,   18.5 ,  342.  ,  165.  ,   37.8 ,\n",
              "         32.  ,  110.  ,  175.  ,   58.5 ,  136.  ,  112.  , 3335.4 ,\n",
              "         44.  ,   34.  ,   90.  ,   38.  ,  157.5 ,   52.5 ,  168.  ,\n",
              "        124.2 ,  110.  ,  340.6 ,  145.  ,  185.  ,   99.  ,   28.  ,\n",
              "         46.4 ,   28.  ,   14.  ,  175.  ,  174.6 ,  166.5 ,   39.6 ,\n",
              "        625.  ,  175.  ,  385.  ,  564.  ,  122.4 ,   44.  ,   44.  ,\n",
              "        165.  ,  125.  , 3427.2 ,   21.25,   61.2 ,   28.  ,   36.  ,\n",
              "        150.42, 1015.  ,   70.  ,   80.4 ,   44.  ,  112.5 ,  178.6 ,\n",
              "         48.  ,   84.  ,  130.  ,  137.2 ,   44.  ,   22.  ,   33.45,\n",
              "        319.  ,   27.2 ,   75.  ,   48.  ,   48.  ,  185.  ,  752.5 ,\n",
              "        171.6 ,  336.  ,  136.  ,  175.  ,  109.2 ,   84.  ,  210.  ,\n",
              "        932.4 ,   44.  ,   42.  ,   45.  ,   55.  ,  270.  ,   49.35,\n",
              "         28.  ,  330.  ,  245.  ,   73.32,   28.  ,  332.8 ,  185.  ,\n",
              "        110.  ,   72.2 ,   58.  ,   28.5 ,   58.  ,   68.  ,   54.4 ,\n",
              "        202.8 ,  254.79,  204.  ,   16.2 ,   50.4 ,  152.19,  136.  ,\n",
              "        157.5 ,   74.  ,   96.  ,  125.  ,  155.  ,  204.4 , 1048.  ,\n",
              "         81.2 ,   25.2 ,  120.  ,   48.  ,   27.2 ,  152.  ,  130.  ,\n",
              "        148.  ])"
            ]
          },
          "metadata": {
            "tags": []
          },
          "execution_count": 15
        }
      ]
    },
    {
      "cell_type": "code",
      "metadata": {
        "id": "nlCpfpXxIuc7",
        "colab_type": "code",
        "colab": {
          "base_uri": "https://localhost:8080/",
          "height": 35
        },
        "outputId": "242179d2-6c2b-4005-f761-15ba3afafe1b"
      },
      "source": [
        "from sklearn import metrics\n",
        "#mean squared error to check accuracy\n",
        "metrics.mean_squared_error(y_test,y_pred)"
      ],
      "execution_count": null,
      "outputs": [
        {
          "output_type": "execute_result",
          "data": {
            "text/plain": [
              "3.546496979199812e-25"
            ]
          },
          "metadata": {
            "tags": []
          },
          "execution_count": 16
        }
      ]
    },
    {
      "cell_type": "code",
      "metadata": {
        "id": "Xvv6l43UIz52",
        "colab_type": "code",
        "colab": {
          "base_uri": "https://localhost:8080/",
          "height": 35
        },
        "outputId": "94a26f3f-c3b3-4bdc-e601-95a74c8e41a0"
      },
      "source": [
        "#accuracy score:\n",
        "metrics.r2_score(y_test,y_pred)*100"
      ],
      "execution_count": null,
      "outputs": [
        {
          "output_type": "execute_result",
          "data": {
            "text/plain": [
              "100.0"
            ]
          },
          "metadata": {
            "tags": []
          },
          "execution_count": 17
        }
      ]
    }
  ]
}